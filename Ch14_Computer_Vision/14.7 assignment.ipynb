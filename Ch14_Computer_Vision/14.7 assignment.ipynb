{
 "cells": [
  {
   "cell_type": "markdown",
   "id": "15210220",
   "metadata": {},
   "source": [
    "# Single Shot Multibox Detection(SSD)\n",
    "배웠던 것을 활용하여 object detection model SSD를 만들어보자.  \n",
    "SSD는 널리 이용되고 있으며 다른 object detection model에도 적용 가능하다.  \n",
    "읽어볼 것 : :cite:`Liu.Anguelov.Erhan.ea.2016`\n",
    "\n",
    "## Model\n",
    "SSD 모델의 주 요소는 base network와 연속적으로 연결된 다규모의 feature block이다.  \n",
    "Base network 블록은 원본 이미지의 feature를 추출하는 데 사용되고 deep convolutional neural network의 형태를 갖는다(그러나 최근 ResNet으로 대체되는 추세다?).\n",
    "\n",
    "## Category Prediction Layer\n",
    "Object category 개수가 $q$면 anchor box category 개수는 $q+1$이 된다. Background만을 포함하는 anchor box의 number는 0이 되는 것이다. Classifying에 FCN을 사용하게 되면 computational burden이 너무 커서 SSD는 model complexity를 감소시킬 필요가 있다.\n",
    "\n",
    "Category prediction layer에서는 input의 h, w를 유지하는 convolutional layer를 사용한다. 즉 output과 input의 좌표는 feature map의 그것과 일대일 대응한다.\n",
    "$a$와 $q$ parameter를 명시한 후에 padding 1, 3 by 3 convolutional layer를 사용한다. Input과 output의 해상도는 변하지 않는다."
   ]
  },
  {
   "cell_type": "code",
   "execution_count": 2,
   "id": "436f2d74",
   "metadata": {},
   "outputs": [],
   "source": [
    "%matplotlib inline\n",
    "import sys\n",
    "sys.path.insert(0, '..')\n",
    "import d2l\n",
    "import numpy as np\n",
    "import torch\n",
    "import torch.nn as nn\n",
    "import torch.optim as optim\n",
    "import torch.nn.functional as F\n",
    "import torchvision.transforms as transforms\n",
    "import json\n",
    "import time\n",
    "from tqdm import tqdm\n",
    "from PIL import Image\n",
    "def cls_predictor(input_channels, num_anchors, num_classes):\n",
    "    return nn.Conv2d(in_channels=input_channels, out_channels=num_anchors * (num_classes + 1), kernel_size = 3, padding = 1)"
   ]
  },
  {
   "cell_type": "markdown",
   "id": "64162df7",
   "metadata": {},
   "source": [
    "## Bounding Box Prediction Layer\n",
    "Bounding box prediction layer 설계는 category prediction layer의 그것과 유사하다. 차이점은 anchor box 당 $q+1$이 아닌 4개의 offset이 필요하다는 점이다."
   ]
  },
  {
   "cell_type": "code",
   "execution_count": 3,
   "id": "aee87527",
   "metadata": {},
   "outputs": [],
   "source": [
    "def bbox_predictor(input_channels, num_anchors):\n",
    "    return nn.Conv2d(in_channels=input_channels, out_channels=numanchors * 4, kernel_size = 3, padding = 1)"
   ]
  },
  {
   "cell_type": "markdown",
   "id": "c088e614",
   "metadata": {},
   "source": [
    "## Concatenating Predictions for Multiple Scales\n"
   ]
  }
 ],
 "metadata": {
  "kernelspec": {
   "display_name": "Python 3 (ipykernel)",
   "language": "python",
   "name": "python3"
  },
  "language_info": {
   "codemirror_mode": {
    "name": "ipython",
    "version": 3
   },
   "file_extension": ".py",
   "mimetype": "text/x-python",
   "name": "python",
   "nbconvert_exporter": "python",
   "pygments_lexer": "ipython3",
   "version": "3.7.13"
  }
 },
 "nbformat": 4,
 "nbformat_minor": 5
}
