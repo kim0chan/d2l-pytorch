{
 "cells": [
  {
   "cell_type": "markdown",
   "id": "49428aa6",
   "metadata": {},
   "source": [
    "# Implementation of Softmax Regression from Scratch\n",
    ":label:`chapter_softmax_scratch`\n",
    "\n",
    "Linear regression을 해본 것처럼 multiclass logistic(softmax)도 해보자  \n",
    "우선 import부터"
   ]
  },
  {
   "cell_type": "code",
   "execution_count": 2,
   "id": "8de85ab1",
   "metadata": {},
   "outputs": [],
   "source": [
    "import sys\n",
    "sys.path.insert(0, '..')\n",
    "\n",
    "%matplotlib inline\n",
    "import d2l\n",
    "import torch\n",
    "from torch.distributions import normal"
   ]
  },
  {
   "cell_type": "code",
   "execution_count": 3,
   "id": "f8bcf116",
   "metadata": {},
   "outputs": [
    {
     "name": "stdout",
     "output_type": "stream",
     "text": [
      "Downloading http://fashion-mnist.s3-website.eu-central-1.amazonaws.com/train-images-idx3-ubyte.gz\n",
      "Downloading http://fashion-mnist.s3-website.eu-central-1.amazonaws.com/train-images-idx3-ubyte.gz to C:\\Users\\kyc_o\\.pytorch\\datasets\\fashion-mnist\\FashionMNIST\\raw\\train-images-idx3-ubyte.gz\n"
     ]
    },
    {
     "data": {
      "application/vnd.jupyter.widget-view+json": {
       "model_id": "0ffd43cfce564e8689445007e8a9ab35",
       "version_major": 2,
       "version_minor": 0
      },
      "text/plain": [
       "  0%|          | 0/26421880 [00:00<?, ?it/s]"
      ]
     },
     "metadata": {},
     "output_type": "display_data"
    },
    {
     "name": "stdout",
     "output_type": "stream",
     "text": [
      "Extracting C:\\Users\\kyc_o\\.pytorch\\datasets\\fashion-mnist\\FashionMNIST\\raw\\train-images-idx3-ubyte.gz to C:\\Users\\kyc_o\\.pytorch\\datasets\\fashion-mnist\\FashionMNIST\\raw\n",
      "\n",
      "Downloading http://fashion-mnist.s3-website.eu-central-1.amazonaws.com/train-labels-idx1-ubyte.gz\n",
      "Downloading http://fashion-mnist.s3-website.eu-central-1.amazonaws.com/train-labels-idx1-ubyte.gz to C:\\Users\\kyc_o\\.pytorch\\datasets\\fashion-mnist\\FashionMNIST\\raw\\train-labels-idx1-ubyte.gz\n"
     ]
    },
    {
     "data": {
      "application/vnd.jupyter.widget-view+json": {
       "model_id": "acadb91885d44825977aa00c6d1873b6",
       "version_major": 2,
       "version_minor": 0
      },
      "text/plain": [
       "  0%|          | 0/29515 [00:00<?, ?it/s]"
      ]
     },
     "metadata": {},
     "output_type": "display_data"
    },
    {
     "name": "stdout",
     "output_type": "stream",
     "text": [
      "Extracting C:\\Users\\kyc_o\\.pytorch\\datasets\\fashion-mnist\\FashionMNIST\\raw\\train-labels-idx1-ubyte.gz to C:\\Users\\kyc_o\\.pytorch\\datasets\\fashion-mnist\\FashionMNIST\\raw\n",
      "\n",
      "Downloading http://fashion-mnist.s3-website.eu-central-1.amazonaws.com/t10k-images-idx3-ubyte.gz\n",
      "Downloading http://fashion-mnist.s3-website.eu-central-1.amazonaws.com/t10k-images-idx3-ubyte.gz to C:\\Users\\kyc_o\\.pytorch\\datasets\\fashion-mnist\\FashionMNIST\\raw\\t10k-images-idx3-ubyte.gz\n"
     ]
    },
    {
     "data": {
      "application/vnd.jupyter.widget-view+json": {
       "model_id": "e65655ee7ec34c3dbd50e2aec0bb5578",
       "version_major": 2,
       "version_minor": 0
      },
      "text/plain": [
       "  0%|          | 0/4422102 [00:00<?, ?it/s]"
      ]
     },
     "metadata": {},
     "output_type": "display_data"
    },
    {
     "name": "stdout",
     "output_type": "stream",
     "text": [
      "Extracting C:\\Users\\kyc_o\\.pytorch\\datasets\\fashion-mnist\\FashionMNIST\\raw\\t10k-images-idx3-ubyte.gz to C:\\Users\\kyc_o\\.pytorch\\datasets\\fashion-mnist\\FashionMNIST\\raw\n",
      "\n",
      "Downloading http://fashion-mnist.s3-website.eu-central-1.amazonaws.com/t10k-labels-idx1-ubyte.gz\n",
      "Downloading http://fashion-mnist.s3-website.eu-central-1.amazonaws.com/t10k-labels-idx1-ubyte.gz to C:\\Users\\kyc_o\\.pytorch\\datasets\\fashion-mnist\\FashionMNIST\\raw\\t10k-labels-idx1-ubyte.gz\n"
     ]
    },
    {
     "data": {
      "application/vnd.jupyter.widget-view+json": {
       "model_id": "fa8c648e920b4080b714580feb325367",
       "version_major": 2,
       "version_minor": 0
      },
      "text/plain": [
       "  0%|          | 0/5148 [00:00<?, ?it/s]"
      ]
     },
     "metadata": {},
     "output_type": "display_data"
    },
    {
     "name": "stdout",
     "output_type": "stream",
     "text": [
      "Extracting C:\\Users\\kyc_o\\.pytorch\\datasets\\fashion-mnist\\FashionMNIST\\raw\\t10k-labels-idx1-ubyte.gz to C:\\Users\\kyc_o\\.pytorch\\datasets\\fashion-mnist\\FashionMNIST\\raw\n",
      "\n"
     ]
    }
   ],
   "source": [
    "batch_size = 256\n",
    "train_iter, test_iter = d2l.load_data_fashion_mnist(batch_size)"
   ]
  },
  {
   "cell_type": "markdown",
   "id": "31ccd6c9",
   "metadata": {},
   "source": [
    "## Initialize Model Parameters\n",
    "※ 이미지가 28 x 28 px였던 것을 상기합시다.  \n",
    "우리는 각 example을 $784$차원 벡터로 처리할 수 있다.  \n",
    "  \n",
    "dataset에 10개의 카테고리가 있기 때문에, 우리의 망은 10차원의 output을 얻게될 것이다.  \n",
    "결과적으로 weight는 $784 \\times 10$ 행렬이 되고 bias는 $1 \\times 10$ 벡터로 구성될 것이다.  \n",
    "linear regression에서처럼 우리는 weight를 $W$로 초기화하고 Gaussian noise와 bias를 초기 값 $0$으로 설정한다."
   ]
  },
  {
   "cell_type": "code",
   "execution_count": 4,
   "id": "5903bc2e",
   "metadata": {},
   "outputs": [],
   "source": [
    "num_inputs = 784\n",
    "num_outputs = 10\n",
    "\n",
    "W = normal.Normal(loc = 0, scale = 0.01).sample((num_inputs, num_outputs))\n",
    "b = torch.zeros(num_outputs)"
   ]
  },
  {
   "cell_type": "code",
   "execution_count": 5,
   "id": "8ba03ade",
   "metadata": {},
   "outputs": [
    {
     "data": {
      "text/plain": [
       "tensor([0., 0., 0., 0., 0., 0., 0., 0., 0., 0.], requires_grad=True)"
      ]
     },
     "execution_count": 5,
     "metadata": {},
     "output_type": "execute_result"
    }
   ],
   "source": [
    "W.requires_grad_(True)\n",
    "b.requires_grad_(True)"
   ]
  },
  {
   "cell_type": "markdown",
   "id": "1d68a37f",
   "metadata": {},
   "source": [
    "Gradient를 model parameter에 붙여주었다."
   ]
  },
  {
   "cell_type": "markdown",
   "id": "bce1ba03",
   "metadata": {},
   "source": [
    "## The Softmax\n",
    "※※※ `torch.sum`이 어떤식으로 동작하는지 review합시다."
   ]
  },
  {
   "cell_type": "code",
   "execution_count": 8,
   "id": "486e4df0",
   "metadata": {},
   "outputs": [
    {
     "data": {
      "text/plain": [
       "(tensor([[5, 7, 9]]),\n",
       " tensor([[ 6],\n",
       "         [15]]))"
      ]
     },
     "execution_count": 8,
     "metadata": {},
     "output_type": "execute_result"
    }
   ],
   "source": [
    "X = torch.tensor([[1, 2, 3], [4, 5, 6]])\n",
    "torch.sum(X, dim = 0, keepdim=True), torch.sum(X, dim = 1, keepdim=True)"
   ]
  },
  {
   "cell_type": "markdown",
   "id": "62b05a87",
   "metadata": {},
   "source": [
    "이제 softmax 함수를 implement할 수 있다.\n",
    "$$\n",
    "\\mathrm{softmax}(\\mathbf{X})_{ij} = \\frac{\\exp(X_{ij})}{\\sum_k \\exp(X_{ik})}\n",
    "$$"
   ]
  },
  {
   "cell_type": "code",
   "execution_count": 9,
   "id": "8894bf6f",
   "metadata": {},
   "outputs": [],
   "source": [
    "def softmax(X):\n",
    "    X_exp = torch.exp(X)\n",
    "    partition = torch.sum(X_exp, dim = 1, keepdim = True)\n",
    "    return X_exp / partition"
   ]
  },
  {
   "cell_type": "code",
   "execution_count": 10,
   "id": "70f1671a",
   "metadata": {},
   "outputs": [
    {
     "data": {
      "text/plain": [
       "(tensor([[0.1246, 0.1006, 0.0395, 0.6286, 0.1068],\n",
       "         [0.0748, 0.7593, 0.0509, 0.0692, 0.0457]]),\n",
       " tensor([1., 1.]))"
      ]
     },
     "execution_count": 10,
     "metadata": {},
     "output_type": "execute_result"
    }
   ],
   "source": [
    "X = normal.Normal(loc = 0, scale = 1).sample((2, 5))\n",
    "X_prob = softmax(X)\n",
    "X_prob, torch.sum(X_prob, dim=1)"
   ]
  },
  {
   "cell_type": "code",
   "execution_count": null,
   "id": "71b1bd02",
   "metadata": {},
   "outputs": [],
   "source": []
  }
 ],
 "metadata": {
  "kernelspec": {
   "display_name": "Python 3 (ipykernel)",
   "language": "python",
   "name": "python3"
  },
  "language_info": {
   "codemirror_mode": {
    "name": "ipython",
    "version": 3
   },
   "file_extension": ".py",
   "mimetype": "text/x-python",
   "name": "python",
   "nbconvert_exporter": "python",
   "pygments_lexer": "ipython3",
   "version": "3.9.7"
  }
 },
 "nbformat": 4,
 "nbformat_minor": 5
}
