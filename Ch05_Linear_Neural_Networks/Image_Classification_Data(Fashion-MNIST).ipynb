{
 "cells": [
  {
   "cell_type": "markdown",
   "metadata": {
    "id": "m8nl8kOUe-wB"
   },
   "source": [
    "# Image Classification Data (Fashion-MNIST)\n",
    "\n",
    "Before we implement softmax regression ourselves, let's pick a real dataset to work with. To make things visually compelling, we will pick an image classification dataset. The most commonly used image classification data set is the [MNIST](http://yann.lecun.com/exdb/mnist/) handwritten digit recognition data set, proposed by LeCun, Cortes and Burges in the 1990s. However, even simple models achieve classification accuracy over 95% on MNIST, so it is hard to spot the differences between better models and weaker ones. In order to get a better intuition, we will use the qualitatively similar, but comparatively complex [Fashion-MNIST](https://github.com/zalandoresearch/fashion-mnist) dataset, proposed by [Xiao, Rasul and Vollgraf](https://arxiv.org/abs/1708.07747) in 2017."
   ]
  },
  {
   "cell_type": "markdown",
   "metadata": {
    "id": "I0Q4Ew9ne-wD"
   },
   "source": [
    "## Getting the Data\n",
    "\n",
    "First, import the packages or modules required in this section.\n",
    "\n"
   ]
  },
  {
   "cell_type": "code",
   "execution_count": 1,
   "metadata": {
    "id": "Yrc5aq4b-oCg"
   },
   "outputs": [
    {
     "name": "stdout",
     "output_type": "stream",
     "text": [
      "Requirement already satisfied: d2l in c:\\users\\kyc_o\\anaconda3\\lib\\site-packages (0.17.5)\n",
      "Requirement already satisfied: numpy==1.21.5 in c:\\users\\kyc_o\\anaconda3\\lib\\site-packages (from d2l) (1.21.5)\n",
      "Requirement already satisfied: requests==2.25.1 in c:\\users\\kyc_o\\anaconda3\\lib\\site-packages (from d2l) (2.25.1)\n",
      "Requirement already satisfied: matplotlib==3.5.1 in c:\\users\\kyc_o\\anaconda3\\lib\\site-packages (from d2l) (3.5.1)\n",
      "Requirement already satisfied: jupyter==1.0.0 in c:\\users\\kyc_o\\anaconda3\\lib\\site-packages (from d2l) (1.0.0)\n",
      "Requirement already satisfied: pandas==1.2.4 in c:\\users\\kyc_o\\anaconda3\\lib\\site-packages (from d2l) (1.2.4)\n",
      "Requirement already satisfied: ipykernel in c:\\users\\kyc_o\\anaconda3\\lib\\site-packages (from jupyter==1.0.0->d2l) (6.4.1)\n",
      "Requirement already satisfied: nbconvert in c:\\users\\kyc_o\\anaconda3\\lib\\site-packages (from jupyter==1.0.0->d2l) (6.1.0)\n",
      "Requirement already satisfied: jupyter-console in c:\\users\\kyc_o\\anaconda3\\lib\\site-packages (from jupyter==1.0.0->d2l) (6.4.0)\n",
      "Requirement already satisfied: notebook in c:\\users\\kyc_o\\anaconda3\\lib\\site-packages (from jupyter==1.0.0->d2l) (6.4.5)\n",
      "Requirement already satisfied: ipywidgets in c:\\users\\kyc_o\\anaconda3\\lib\\site-packages (from jupyter==1.0.0->d2l) (7.6.5)\n",
      "Requirement already satisfied: qtconsole in c:\\users\\kyc_o\\anaconda3\\lib\\site-packages (from jupyter==1.0.0->d2l) (5.1.1)\n",
      "Requirement already satisfied: python-dateutil>=2.7 in c:\\users\\kyc_o\\anaconda3\\lib\\site-packages (from matplotlib==3.5.1->d2l) (2.8.2)\n",
      "Requirement already satisfied: kiwisolver>=1.0.1 in c:\\users\\kyc_o\\anaconda3\\lib\\site-packages (from matplotlib==3.5.1->d2l) (1.3.1)\n",
      "Requirement already satisfied: fonttools>=4.22.0 in c:\\users\\kyc_o\\anaconda3\\lib\\site-packages (from matplotlib==3.5.1->d2l) (4.25.0)\n",
      "Requirement already satisfied: pyparsing>=2.2.1 in c:\\users\\kyc_o\\anaconda3\\lib\\site-packages (from matplotlib==3.5.1->d2l) (3.0.4)\n",
      "Requirement already satisfied: pillow>=6.2.0 in c:\\users\\kyc_o\\anaconda3\\lib\\site-packages (from matplotlib==3.5.1->d2l) (8.4.0)\n",
      "Requirement already satisfied: cycler>=0.10 in c:\\users\\kyc_o\\anaconda3\\lib\\site-packages (from matplotlib==3.5.1->d2l) (0.10.0)\n",
      "Requirement already satisfied: packaging>=20.0 in c:\\users\\kyc_o\\anaconda3\\lib\\site-packages (from matplotlib==3.5.1->d2l) (21.0)\n",
      "Requirement already satisfied: pytz>=2017.3 in c:\\users\\kyc_o\\anaconda3\\lib\\site-packages (from pandas==1.2.4->d2l) (2021.3)\n",
      "Requirement already satisfied: certifi>=2017.4.17 in c:\\users\\kyc_o\\anaconda3\\lib\\site-packages (from requests==2.25.1->d2l) (2021.10.8)\n",
      "Requirement already satisfied: urllib3<1.27,>=1.21.1 in c:\\users\\kyc_o\\anaconda3\\lib\\site-packages (from requests==2.25.1->d2l) (1.26.7)\n",
      "Requirement already satisfied: chardet<5,>=3.0.2 in c:\\users\\kyc_o\\anaconda3\\lib\\site-packages (from requests==2.25.1->d2l) (4.0.0)\n",
      "Requirement already satisfied: idna<3,>=2.5 in c:\\users\\kyc_o\\anaconda3\\lib\\site-packages (from requests==2.25.1->d2l) (2.10)\n",
      "Requirement already satisfied: six in c:\\users\\kyc_o\\anaconda3\\lib\\site-packages (from cycler>=0.10->matplotlib==3.5.1->d2l) (1.16.0)\n",
      "Requirement already satisfied: traitlets<6.0,>=4.1.0 in c:\\users\\kyc_o\\anaconda3\\lib\\site-packages (from ipykernel->jupyter==1.0.0->d2l) (5.1.0)\n",
      "Requirement already satisfied: debugpy<2.0,>=1.0.0 in c:\\users\\kyc_o\\anaconda3\\lib\\site-packages (from ipykernel->jupyter==1.0.0->d2l) (1.4.1)\n",
      "Requirement already satisfied: tornado<7.0,>=4.2 in c:\\users\\kyc_o\\anaconda3\\lib\\site-packages (from ipykernel->jupyter==1.0.0->d2l) (6.1)\n",
      "Requirement already satisfied: matplotlib-inline<0.2.0,>=0.1.0 in c:\\users\\kyc_o\\anaconda3\\lib\\site-packages (from ipykernel->jupyter==1.0.0->d2l) (0.1.2)\n",
      "Requirement already satisfied: ipython<8.0,>=7.23.1 in c:\\users\\kyc_o\\anaconda3\\lib\\site-packages (from ipykernel->jupyter==1.0.0->d2l) (7.29.0)\n",
      "Requirement already satisfied: jupyter-client<8.0 in c:\\users\\kyc_o\\anaconda3\\lib\\site-packages (from ipykernel->jupyter==1.0.0->d2l) (6.1.12)\n",
      "Requirement already satisfied: ipython-genutils in c:\\users\\kyc_o\\anaconda3\\lib\\site-packages (from ipykernel->jupyter==1.0.0->d2l) (0.2.0)\n",
      "Requirement already satisfied: backcall in c:\\users\\kyc_o\\anaconda3\\lib\\site-packages (from ipython<8.0,>=7.23.1->ipykernel->jupyter==1.0.0->d2l) (0.2.0)\n",
      "Requirement already satisfied: jedi>=0.16 in c:\\users\\kyc_o\\anaconda3\\lib\\site-packages (from ipython<8.0,>=7.23.1->ipykernel->jupyter==1.0.0->d2l) (0.18.0)\n",
      "Requirement already satisfied: decorator in c:\\users\\kyc_o\\anaconda3\\lib\\site-packages (from ipython<8.0,>=7.23.1->ipykernel->jupyter==1.0.0->d2l) (5.1.0)\n",
      "Requirement already satisfied: pickleshare in c:\\users\\kyc_o\\anaconda3\\lib\\site-packages (from ipython<8.0,>=7.23.1->ipykernel->jupyter==1.0.0->d2l) (0.7.5)\n",
      "Requirement already satisfied: colorama in c:\\users\\kyc_o\\anaconda3\\lib\\site-packages (from ipython<8.0,>=7.23.1->ipykernel->jupyter==1.0.0->d2l) (0.4.4)\n",
      "Requirement already satisfied: pygments in c:\\users\\kyc_o\\anaconda3\\lib\\site-packages (from ipython<8.0,>=7.23.1->ipykernel->jupyter==1.0.0->d2l) (2.10.0)\n",
      "Requirement already satisfied: setuptools>=18.5 in c:\\users\\kyc_o\\anaconda3\\lib\\site-packages (from ipython<8.0,>=7.23.1->ipykernel->jupyter==1.0.0->d2l) (58.0.4)\n",
      "Requirement already satisfied: prompt-toolkit!=3.0.0,!=3.0.1,<3.1.0,>=2.0.0 in c:\\users\\kyc_o\\anaconda3\\lib\\site-packages (from ipython<8.0,>=7.23.1->ipykernel->jupyter==1.0.0->d2l) (3.0.20)\n",
      "Requirement already satisfied: parso<0.9.0,>=0.8.0 in c:\\users\\kyc_o\\anaconda3\\lib\\site-packages (from jedi>=0.16->ipython<8.0,>=7.23.1->ipykernel->jupyter==1.0.0->d2l) (0.8.2)\n",
      "Requirement already satisfied: jupyter-core>=4.6.0 in c:\\users\\kyc_o\\anaconda3\\lib\\site-packages (from jupyter-client<8.0->ipykernel->jupyter==1.0.0->d2l) (4.8.1)\n",
      "Requirement already satisfied: pyzmq>=13 in c:\\users\\kyc_o\\anaconda3\\lib\\site-packages (from jupyter-client<8.0->ipykernel->jupyter==1.0.0->d2l) (22.2.1)\n",
      "Requirement already satisfied: pywin32>=1.0 in c:\\users\\kyc_o\\anaconda3\\lib\\site-packages (from jupyter-core>=4.6.0->jupyter-client<8.0->ipykernel->jupyter==1.0.0->d2l) (228)\n",
      "Requirement already satisfied: wcwidth in c:\\users\\kyc_o\\anaconda3\\lib\\site-packages (from prompt-toolkit!=3.0.0,!=3.0.1,<3.1.0,>=2.0.0->ipython<8.0,>=7.23.1->ipykernel->jupyter==1.0.0->d2l) (0.2.5)\n",
      "Requirement already satisfied: widgetsnbextension~=3.5.0 in c:\\users\\kyc_o\\anaconda3\\lib\\site-packages (from ipywidgets->jupyter==1.0.0->d2l) (3.5.1)\n",
      "Requirement already satisfied: jupyterlab-widgets>=1.0.0 in c:\\users\\kyc_o\\anaconda3\\lib\\site-packages (from ipywidgets->jupyter==1.0.0->d2l) (1.0.0)\n",
      "Requirement already satisfied: nbformat>=4.2.0 in c:\\users\\kyc_o\\anaconda3\\lib\\site-packages (from ipywidgets->jupyter==1.0.0->d2l) (5.1.3)\n",
      "Requirement already satisfied: jsonschema!=2.5.0,>=2.4 in c:\\users\\kyc_o\\anaconda3\\lib\\site-packages (from nbformat>=4.2.0->ipywidgets->jupyter==1.0.0->d2l) (3.2.0)\n",
      "Requirement already satisfied: pyrsistent>=0.14.0 in c:\\users\\kyc_o\\anaconda3\\lib\\site-packages (from jsonschema!=2.5.0,>=2.4->nbformat>=4.2.0->ipywidgets->jupyter==1.0.0->d2l) (0.18.0)\n",
      "Requirement already satisfied: attrs>=17.4.0 in c:\\users\\kyc_o\\anaconda3\\lib\\site-packages (from jsonschema!=2.5.0,>=2.4->nbformat>=4.2.0->ipywidgets->jupyter==1.0.0->d2l) (21.2.0)\n",
      "Requirement already satisfied: jinja2 in c:\\users\\kyc_o\\anaconda3\\lib\\site-packages (from notebook->jupyter==1.0.0->d2l) (2.11.3)\n",
      "Requirement already satisfied: terminado>=0.8.3 in c:\\users\\kyc_o\\anaconda3\\lib\\site-packages (from notebook->jupyter==1.0.0->d2l) (0.9.4)\n",
      "Requirement already satisfied: prometheus-client in c:\\users\\kyc_o\\anaconda3\\lib\\site-packages (from notebook->jupyter==1.0.0->d2l) (0.11.0)\n",
      "Requirement already satisfied: argon2-cffi in c:\\users\\kyc_o\\anaconda3\\lib\\site-packages (from notebook->jupyter==1.0.0->d2l) (20.1.0)\n",
      "Requirement already satisfied: Send2Trash>=1.5.0 in c:\\users\\kyc_o\\anaconda3\\lib\\site-packages (from notebook->jupyter==1.0.0->d2l) (1.8.0)\n",
      "Requirement already satisfied: pywinpty>=0.5 in c:\\users\\kyc_o\\anaconda3\\lib\\site-packages (from terminado>=0.8.3->notebook->jupyter==1.0.0->d2l) (0.5.7)\n",
      "Requirement already satisfied: cffi>=1.0.0 in c:\\users\\kyc_o\\anaconda3\\lib\\site-packages (from argon2-cffi->notebook->jupyter==1.0.0->d2l) (1.14.6)\n",
      "Requirement already satisfied: pycparser in c:\\users\\kyc_o\\anaconda3\\lib\\site-packages (from cffi>=1.0.0->argon2-cffi->notebook->jupyter==1.0.0->d2l) (2.20)\n",
      "Requirement already satisfied: MarkupSafe>=0.23 in c:\\users\\kyc_o\\anaconda3\\lib\\site-packages (from jinja2->notebook->jupyter==1.0.0->d2l) (1.1.1)\n",
      "Requirement already satisfied: defusedxml in c:\\users\\kyc_o\\anaconda3\\lib\\site-packages (from nbconvert->jupyter==1.0.0->d2l) (0.7.1)\n",
      "Requirement already satisfied: entrypoints>=0.2.2 in c:\\users\\kyc_o\\anaconda3\\lib\\site-packages (from nbconvert->jupyter==1.0.0->d2l) (0.3)\n",
      "Requirement already satisfied: mistune<2,>=0.8.1 in c:\\users\\kyc_o\\anaconda3\\lib\\site-packages (from nbconvert->jupyter==1.0.0->d2l) (0.8.4)\n",
      "Requirement already satisfied: testpath in c:\\users\\kyc_o\\anaconda3\\lib\\site-packages (from nbconvert->jupyter==1.0.0->d2l) (0.5.0)\n",
      "Requirement already satisfied: jupyterlab-pygments in c:\\users\\kyc_o\\anaconda3\\lib\\site-packages (from nbconvert->jupyter==1.0.0->d2l) (0.1.2)\n",
      "Requirement already satisfied: nbclient<0.6.0,>=0.5.0 in c:\\users\\kyc_o\\anaconda3\\lib\\site-packages (from nbconvert->jupyter==1.0.0->d2l) (0.5.3)\n",
      "Requirement already satisfied: bleach in c:\\users\\kyc_o\\anaconda3\\lib\\site-packages (from nbconvert->jupyter==1.0.0->d2l) (4.0.0)\n",
      "Requirement already satisfied: pandocfilters>=1.4.1 in c:\\users\\kyc_o\\anaconda3\\lib\\site-packages (from nbconvert->jupyter==1.0.0->d2l) (1.4.3)\n",
      "Requirement already satisfied: async-generator in c:\\users\\kyc_o\\anaconda3\\lib\\site-packages (from nbclient<0.6.0,>=0.5.0->nbconvert->jupyter==1.0.0->d2l) (1.10)\n",
      "Requirement already satisfied: nest-asyncio in c:\\users\\kyc_o\\anaconda3\\lib\\site-packages (from nbclient<0.6.0,>=0.5.0->nbconvert->jupyter==1.0.0->d2l) (1.5.1)\n",
      "Requirement already satisfied: webencodings in c:\\users\\kyc_o\\anaconda3\\lib\\site-packages (from bleach->nbconvert->jupyter==1.0.0->d2l) (0.5.1)\n",
      "Requirement already satisfied: qtpy in c:\\users\\kyc_o\\anaconda3\\lib\\site-packages (from qtconsole->jupyter==1.0.0->d2l) (1.10.0)\n"
     ]
    }
   ],
   "source": [
    "!pip install d2l"
   ]
  },
  {
   "cell_type": "code",
   "execution_count": 1,
   "metadata": {
    "id": "uHnsGsXae-wE"
   },
   "outputs": [
    {
     "name": "stderr",
     "output_type": "stream",
     "text": [
      "C:\\Users\\kyc_o\\anaconda3\\lib\\site-packages\\numpy\\_distributor_init.py:30: UserWarning: loaded more than 1 DLL from .libs:\n",
      "C:\\Users\\kyc_o\\anaconda3\\lib\\site-packages\\numpy\\.libs\\libopenblas.FB5AE2TYXYH2IJRDKGDGQ3XBKLKTF43H.gfortran-win_amd64.dll\n",
      "C:\\Users\\kyc_o\\anaconda3\\lib\\site-packages\\numpy\\.libs\\libopenblas.xwydx2ikjw2nmtwsfyngfuwkqu3lytcz.gfortran-win_amd64.dll\n",
      "  warnings.warn(\"loaded more than 1 DLL from .libs:\"\n"
     ]
    }
   ],
   "source": [
    "%matplotlib inline\n",
    "import sys\n",
    "sys.path.insert(0, '..')\n",
    "import d2l\n",
    "from IPython import display\n",
    "from matplotlib import pyplot as plt\n",
    "import torch\n",
    "import torchvision\n",
    "from torchvision import transforms\n",
    "from torch.utils.data import DataLoader\n",
    "\n",
    "import time"
   ]
  },
  {
   "cell_type": "markdown",
   "metadata": {
    "id": "R8H2S-RSe-wF"
   },
   "source": [
    "Conveniently, PyTorch's `torchvision.datasets` package provides easy access to a number of benchmark vision datasets for testing our models.\n",
    "The first time we invoke `data.vision.FashionMNIST(train=True)`\n",
    "to collect the training data,\n",
    "PyTorch will automatically retrieve the dataset via our Internet connection.\n",
    "Subsequently, PyTorch will use the already-downloaded local copy.\n",
    "We specify whether we are requesting the training set or the test set\n",
    "by setting the value of the parameter `train` to `True` or `False`, respectively.\n",
    "Recall that we will only be using the training data for training,\n",
    "holding out the test set for a final evaluation of our model."
   ]
  },
  {
   "cell_type": "code",
   "execution_count": 5,
   "metadata": {
    "id": "DIP-pcvJe-wF"
   },
   "outputs": [
    {
     "ename": "NameError",
     "evalue": "name 'transforms' is not defined",
     "output_type": "error",
     "traceback": [
      "\u001b[1;31m---------------------------------------------------------------------------\u001b[0m",
      "\u001b[1;31mNameError\u001b[0m                                 Traceback (most recent call last)",
      "\u001b[1;32m~\\AppData\\Local\\Temp/ipykernel_13704/2794138117.py\u001b[0m in \u001b[0;36m<module>\u001b[1;34m\u001b[0m\n\u001b[0;32m      1\u001b[0m \u001b[1;31m# By default pytorch torchvision datasets are of type PIL.\u001b[0m\u001b[1;33m\u001b[0m\u001b[1;33m\u001b[0m\u001b[0m\n\u001b[0;32m      2\u001b[0m \u001b[1;31m# Define a transform \"trans\" to change the PIL to Tensor format.\u001b[0m\u001b[1;33m\u001b[0m\u001b[1;33m\u001b[0m\u001b[0m\n\u001b[1;32m----> 3\u001b[1;33m \u001b[0mtrans\u001b[0m \u001b[1;33m=\u001b[0m \u001b[0mtransforms\u001b[0m\u001b[1;33m.\u001b[0m\u001b[0mToTensor\u001b[0m\u001b[1;33m(\u001b[0m\u001b[1;33m)\u001b[0m\u001b[1;33m\u001b[0m\u001b[1;33m\u001b[0m\u001b[0m\n\u001b[0m",
      "\u001b[1;31mNameError\u001b[0m: name 'transforms' is not defined"
     ]
    }
   ],
   "source": [
    "# By default pytorch torchvision datasets are of type PIL.\n",
    "# Define a transform \"trans\" to change the PIL to Tensor format.\n",
    "trans = transforms.ToTensor() "
   ]
  },
  {
   "cell_type": "markdown",
   "metadata": {
    "id": "McDcTejYe-wG"
   },
   "source": [
    "The `ToTensor` Transform also moves the image channel from the last dimension to the first dimension to facilitate the convolutional neural network calculations introduced later."
   ]
  },
  {
   "cell_type": "code",
   "execution_count": 6,
   "metadata": {
    "id": "Zz0pkE_Pe-wG"
   },
   "outputs": [
    {
     "ename": "NameError",
     "evalue": "name 'torchvision' is not defined",
     "output_type": "error",
     "traceback": [
      "\u001b[1;31m---------------------------------------------------------------------------\u001b[0m",
      "\u001b[1;31mNameError\u001b[0m                                 Traceback (most recent call last)",
      "\u001b[1;32m~\\AppData\\Local\\Temp/ipykernel_13704/4058903583.py\u001b[0m in \u001b[0;36m<module>\u001b[1;34m\u001b[0m\n\u001b[1;32m----> 1\u001b[1;33m \u001b[0mmnist_train\u001b[0m \u001b[1;33m=\u001b[0m \u001b[0mtorchvision\u001b[0m\u001b[1;33m.\u001b[0m\u001b[0mdatasets\u001b[0m\u001b[1;33m.\u001b[0m\u001b[0mFashionMNIST\u001b[0m\u001b[1;33m(\u001b[0m\u001b[0mroot\u001b[0m\u001b[1;33m=\u001b[0m\u001b[1;34m\"./\"\u001b[0m\u001b[1;33m,\u001b[0m \u001b[0mtrain\u001b[0m\u001b[1;33m=\u001b[0m\u001b[1;32mTrue\u001b[0m\u001b[1;33m,\u001b[0m \u001b[0mtransform\u001b[0m\u001b[1;33m=\u001b[0m\u001b[0mtrans\u001b[0m\u001b[1;33m,\u001b[0m \u001b[0mtarget_transform\u001b[0m\u001b[1;33m=\u001b[0m\u001b[1;32mNone\u001b[0m\u001b[1;33m,\u001b[0m \u001b[0mdownload\u001b[0m\u001b[1;33m=\u001b[0m\u001b[1;32mTrue\u001b[0m\u001b[1;33m)\u001b[0m\u001b[1;33m\u001b[0m\u001b[1;33m\u001b[0m\u001b[0m\n\u001b[0m\u001b[0;32m      2\u001b[0m \u001b[0mmnist_test\u001b[0m \u001b[1;33m=\u001b[0m \u001b[0mtorchvision\u001b[0m\u001b[1;33m.\u001b[0m\u001b[0mdatasets\u001b[0m\u001b[1;33m.\u001b[0m\u001b[0mFashionMNIST\u001b[0m\u001b[1;33m(\u001b[0m\u001b[0mroot\u001b[0m\u001b[1;33m=\u001b[0m\u001b[1;34m\"./\"\u001b[0m\u001b[1;33m,\u001b[0m \u001b[0mtrain\u001b[0m\u001b[1;33m=\u001b[0m\u001b[1;32mFalse\u001b[0m\u001b[1;33m,\u001b[0m \u001b[0mtransform\u001b[0m\u001b[1;33m=\u001b[0m\u001b[0mtrans\u001b[0m\u001b[1;33m,\u001b[0m \u001b[0mtarget_transform\u001b[0m\u001b[1;33m=\u001b[0m\u001b[1;32mNone\u001b[0m\u001b[1;33m,\u001b[0m \u001b[0mdownload\u001b[0m\u001b[1;33m=\u001b[0m\u001b[1;32mTrue\u001b[0m\u001b[1;33m)\u001b[0m\u001b[1;33m\u001b[0m\u001b[1;33m\u001b[0m\u001b[0m\n",
      "\u001b[1;31mNameError\u001b[0m: name 'torchvision' is not defined"
     ]
    }
   ],
   "source": [
    "mnist_train = torchvision.datasets.FashionMNIST(root=\"./\", train=True, transform=trans, target_transform=None, download=True)\n",
    "mnist_test = torchvision.datasets.FashionMNIST(root=\"./\", train=False, transform=trans, target_transform=None, download=True)"
   ]
  },
  {
   "cell_type": "markdown",
   "metadata": {
    "id": "bsOEIIzfe-wH"
   },
   "source": [
    "The number of images for each category in the training set and the testing set is 6,000 and 1,000, respectively. Since there are 10 categories, the numbers of examples in the training set and the test set are 60,000 and 10,000, respectively."
   ]
  },
  {
   "cell_type": "code",
   "execution_count": 2,
   "metadata": {
    "colab": {
     "base_uri": "https://localhost:8080/"
    },
    "id": "JBOUknvye-wH",
    "outputId": "bbd26b10-fb4d-49e8-de77-49880688f980"
   },
   "outputs": [
    {
     "ename": "NameError",
     "evalue": "name 'mnist_train' is not defined",
     "output_type": "error",
     "traceback": [
      "\u001b[1;31m---------------------------------------------------------------------------\u001b[0m",
      "\u001b[1;31mNameError\u001b[0m                                 Traceback (most recent call last)",
      "\u001b[1;32m~\\AppData\\Local\\Temp/ipykernel_18912/794662611.py\u001b[0m in \u001b[0;36m<module>\u001b[1;34m\u001b[0m\n\u001b[1;32m----> 1\u001b[1;33m \u001b[0mlen\u001b[0m\u001b[1;33m(\u001b[0m\u001b[0mmnist_train\u001b[0m\u001b[1;33m)\u001b[0m\u001b[1;33m,\u001b[0m \u001b[0mlen\u001b[0m\u001b[1;33m(\u001b[0m\u001b[0mmnist_test\u001b[0m\u001b[1;33m)\u001b[0m\u001b[1;33m\u001b[0m\u001b[1;33m\u001b[0m\u001b[0m\n\u001b[0m",
      "\u001b[1;31mNameError\u001b[0m: name 'mnist_train' is not defined"
     ]
    }
   ],
   "source": [
    "len(mnist_train), len(mnist_test)"
   ]
  },
  {
   "cell_type": "markdown",
   "metadata": {
    "id": "fAnZ1O1be-wI"
   },
   "source": [
    "We can access any example by indexing into the dataset using square brackets `[]`. In the following code, we access the image and label corresponding to the first example."
   ]
  },
  {
   "cell_type": "code",
   "execution_count": 8,
   "metadata": {
    "id": "rT37CGmQe-wI"
   },
   "outputs": [
    {
     "ename": "NameError",
     "evalue": "name 'mnist_train' is not defined",
     "output_type": "error",
     "traceback": [
      "\u001b[1;31m---------------------------------------------------------------------------\u001b[0m",
      "\u001b[1;31mNameError\u001b[0m                                 Traceback (most recent call last)",
      "\u001b[1;32m~\\AppData\\Local\\Temp/ipykernel_13704/4166300530.py\u001b[0m in \u001b[0;36m<module>\u001b[1;34m\u001b[0m\n\u001b[1;32m----> 1\u001b[1;33m \u001b[0mfeature\u001b[0m\u001b[1;33m,\u001b[0m \u001b[0mlabel\u001b[0m \u001b[1;33m=\u001b[0m \u001b[0mmnist_train\u001b[0m\u001b[1;33m[\u001b[0m\u001b[1;36m0\u001b[0m\u001b[1;33m]\u001b[0m\u001b[1;33m\u001b[0m\u001b[1;33m\u001b[0m\u001b[0m\n\u001b[0m",
      "\u001b[1;31mNameError\u001b[0m: name 'mnist_train' is not defined"
     ]
    }
   ],
   "source": [
    "feature, label = mnist_train[0]"
   ]
  },
  {
   "cell_type": "markdown",
   "metadata": {
    "id": "u5_KbsUBe-wI"
   },
   "source": [
    "Our example, stored here in the variable `feature` corresponds to an image with a height and width of 28 pixels. PyTorch automatically scales it into a tensor with each pixel value between 0 and 1. It is stored in a 3D Tensor. Its first dimension is the number of channels. Since the data set is a grayscale image, the number of channels is 1. When we encounter color, images, we'll have 3 channels for red, green, and blue. To keep things simple, we will record the shape of the image with the height and width of $h$ and $w$ pixels, respectively, as $h \\times w$ or `(h, w)`."
   ]
  },
  {
   "cell_type": "code",
   "execution_count": 9,
   "metadata": {
    "colab": {
     "base_uri": "https://localhost:8080/"
    },
    "id": "lMCbmWOEe-wJ",
    "outputId": "61ac3a1b-d9a2-497e-b45c-27b1a82b2225"
   },
   "outputs": [
    {
     "ename": "NameError",
     "evalue": "name 'feature' is not defined",
     "output_type": "error",
     "traceback": [
      "\u001b[1;31m---------------------------------------------------------------------------\u001b[0m",
      "\u001b[1;31mNameError\u001b[0m                                 Traceback (most recent call last)",
      "\u001b[1;32m~\\AppData\\Local\\Temp/ipykernel_13704/2062199118.py\u001b[0m in \u001b[0;36m<module>\u001b[1;34m\u001b[0m\n\u001b[1;32m----> 1\u001b[1;33m \u001b[0mfeature\u001b[0m\u001b[1;33m.\u001b[0m\u001b[0mshape\u001b[0m\u001b[1;33m,\u001b[0m \u001b[0mfeature\u001b[0m\u001b[1;33m.\u001b[0m\u001b[0mdtype\u001b[0m\u001b[1;33m\u001b[0m\u001b[1;33m\u001b[0m\u001b[0m\n\u001b[0m",
      "\u001b[1;31mNameError\u001b[0m: name 'feature' is not defined"
     ]
    }
   ],
   "source": [
    "feature.shape, feature.dtype"
   ]
  },
  {
   "cell_type": "markdown",
   "metadata": {
    "id": "SxC-gLi9e-wJ"
   },
   "source": [
    "The label of each image is represented as a scalar in PyTorch. Its type is a 64-bit integer."
   ]
  },
  {
   "cell_type": "code",
   "execution_count": 10,
   "metadata": {
    "colab": {
     "base_uri": "https://localhost:8080/"
    },
    "id": "wHWoYIVae-wJ",
    "outputId": "c3e1077e-3c26-4327-e590-0d400ea95f75"
   },
   "outputs": [
    {
     "ename": "NameError",
     "evalue": "name 'label' is not defined",
     "output_type": "error",
     "traceback": [
      "\u001b[1;31m---------------------------------------------------------------------------\u001b[0m",
      "\u001b[1;31mNameError\u001b[0m                                 Traceback (most recent call last)",
      "\u001b[1;32m~\\AppData\\Local\\Temp/ipykernel_13704/411952118.py\u001b[0m in \u001b[0;36m<module>\u001b[1;34m\u001b[0m\n\u001b[1;32m----> 1\u001b[1;33m \u001b[0mlabel\u001b[0m\u001b[1;33m,\u001b[0m \u001b[0mtype\u001b[0m\u001b[1;33m(\u001b[0m\u001b[0mlabel\u001b[0m\u001b[1;33m)\u001b[0m\u001b[1;33m\u001b[0m\u001b[1;33m\u001b[0m\u001b[0m\n\u001b[0m",
      "\u001b[1;31mNameError\u001b[0m: name 'label' is not defined"
     ]
    }
   ],
   "source": [
    "label, type(label)"
   ]
  },
  {
   "cell_type": "markdown",
   "metadata": {
    "id": "hjXRqLE8e-wJ"
   },
   "source": [
    "There are 10 categories in Fashion-MNIST: t-shirt, trousers, pullover, dress, coat, sandal, shirt, sneaker, bag and ankle boot. The following function can convert a numeric label into a corresponding text label."
   ]
  },
  {
   "cell_type": "code",
   "execution_count": 11,
   "metadata": {
    "id": "-QrG4ztYe-wK"
   },
   "outputs": [],
   "source": [
    "# This function has been saved in the d2l package for future use\n",
    "def get_fashion_mnist_labels(labels):\n",
    "    text_labels = ['t-shirt', 'trouser', 'pullover', 'dress', 'coat',\n",
    "                   'sandal', 'shirt', 'sneaker', 'bag', 'ankle boot']\n",
    "    return [text_labels[int(i)] for i in labels]"
   ]
  },
  {
   "cell_type": "markdown",
   "metadata": {
    "id": "xpRaSnLBe-wK"
   },
   "source": [
    "The following defines a function that can draw multiple images and corresponding labels in a single line."
   ]
  },
  {
   "cell_type": "code",
   "execution_count": 12,
   "metadata": {
    "id": "OKRDNxOre-wK"
   },
   "outputs": [],
   "source": [
    "# This function has been saved in the d2l package for future use\n",
    "def show_fashion_mnist(images, labels):\n",
    "    display.set_matplotlib_formats('svg')\n",
    "    # Here _ means that we ignore (not use) variables\n",
    "    _, figs = plt.subplots(1, len(images), figsize=(12, 12))\n",
    "    for f, img, lbl in zip(figs, images, labels):\n",
    "        f.imshow(img.reshape((28, 28)).numpy())\n",
    "        f.set_title(lbl)\n",
    "        f.axes.get_xaxis().set_visible(False)\n",
    "        f.axes.get_yaxis().set_visible(False)"
   ]
  },
  {
   "cell_type": "markdown",
   "metadata": {
    "id": "V0r_8Zz0e-wK"
   },
   "source": [
    "Next, let's take a look at the image contents and text labels for the first nine examples in the training data set.\n",
    "\n",
    "Note: PyTorch DataLoader objects don't support regular array slicing. You can instead iterate through."
   ]
  },
  {
   "cell_type": "code",
   "execution_count": 13,
   "metadata": {
    "colab": {
     "base_uri": "https://localhost:8080/",
     "height": 142
    },
    "id": "lcrs8wyPe-wK",
    "outputId": "e8f6574c-1704-4bd5-bb79-37ddf7391d54"
   },
   "outputs": [
    {
     "ename": "NameError",
     "evalue": "name 'mnist_train' is not defined",
     "output_type": "error",
     "traceback": [
      "\u001b[1;31m---------------------------------------------------------------------------\u001b[0m",
      "\u001b[1;31mNameError\u001b[0m                                 Traceback (most recent call last)",
      "\u001b[1;32m~\\AppData\\Local\\Temp/ipykernel_13704/4006596247.py\u001b[0m in \u001b[0;36m<module>\u001b[1;34m\u001b[0m\n\u001b[0;32m      1\u001b[0m \u001b[0mX\u001b[0m\u001b[1;33m=\u001b[0m\u001b[1;33m[\u001b[0m\u001b[1;33m]\u001b[0m\u001b[1;33m\u001b[0m\u001b[1;33m\u001b[0m\u001b[0m\n\u001b[0;32m      2\u001b[0m \u001b[0my\u001b[0m\u001b[1;33m=\u001b[0m\u001b[1;33m[\u001b[0m\u001b[1;33m]\u001b[0m\u001b[1;33m\u001b[0m\u001b[1;33m\u001b[0m\u001b[0m\n\u001b[1;32m----> 3\u001b[1;33m \u001b[1;32mfor\u001b[0m \u001b[0midx\u001b[0m\u001b[1;33m,\u001b[0m \u001b[0mdata\u001b[0m \u001b[1;32min\u001b[0m \u001b[0menumerate\u001b[0m\u001b[1;33m(\u001b[0m\u001b[0mmnist_train\u001b[0m\u001b[1;33m)\u001b[0m\u001b[1;33m:\u001b[0m\u001b[1;33m\u001b[0m\u001b[1;33m\u001b[0m\u001b[0m\n\u001b[0m\u001b[0;32m      4\u001b[0m     \u001b[1;32mif\u001b[0m\u001b[1;33m(\u001b[0m\u001b[0midx\u001b[0m\u001b[1;33m>=\u001b[0m\u001b[1;36m0\u001b[0m \u001b[1;32mand\u001b[0m \u001b[0midx\u001b[0m\u001b[1;33m<\u001b[0m\u001b[1;36m10\u001b[0m\u001b[1;33m)\u001b[0m\u001b[1;33m:\u001b[0m\u001b[1;33m\u001b[0m\u001b[1;33m\u001b[0m\u001b[0m\n\u001b[0;32m      5\u001b[0m         \u001b[0mX\u001b[0m\u001b[1;33m.\u001b[0m\u001b[0mappend\u001b[0m\u001b[1;33m(\u001b[0m\u001b[0mdata\u001b[0m\u001b[1;33m[\u001b[0m\u001b[1;36m0\u001b[0m\u001b[1;33m]\u001b[0m\u001b[1;33m)\u001b[0m\u001b[1;33m\u001b[0m\u001b[1;33m\u001b[0m\u001b[0m\n",
      "\u001b[1;31mNameError\u001b[0m: name 'mnist_train' is not defined"
     ]
    }
   ],
   "source": [
    "X=[]\n",
    "y=[]\n",
    "for idx, data in enumerate(mnist_train):\n",
    "    if(idx>=0 and idx<10):\n",
    "        X.append(data[0])\n",
    "        y.append(data[1])\n",
    "    if (idx>=10):\n",
    "        break\n",
    "# X, y = mnist_train[0:9]\n",
    "show_fashion_mnist(X, get_fashion_mnist_labels(y))"
   ]
  },
  {
   "cell_type": "markdown",
   "metadata": {
    "id": "iVpiwmFoe-wL"
   },
   "source": [
    "## Reading a Minibatch\n",
    "\n",
    "To make our life easier when reading from the training and test sets we use a `DataLoader` rather than creating one from scratch, as we did in `chapter_linear_scratch`. Recall that a data loader reads a mini-batch of data with an example number of `batch_size` each time.\n",
    "\n",
    "In practice, reading data can often be a significant performance bottleneck for training, especially when the model is simple or when the computer is fast. A handy feature of PyTorch's `DataLoader` is the ability to use multiple processes to speed up data reading. For instance, we can set aside 4 processes to read the data (via `num_workers`).\n",
    "\n",
    "We've already applied required transformations before."
   ]
  },
  {
   "cell_type": "code",
   "execution_count": 14,
   "metadata": {
    "colab": {
     "base_uri": "https://localhost:8080/"
    },
    "id": "ASaTFlP5e-wL",
    "outputId": "d1f6236f-4782-4dab-b606-5a77657b9cbe"
   },
   "outputs": [
    {
     "ename": "NameError",
     "evalue": "name 'sys' is not defined",
     "output_type": "error",
     "traceback": [
      "\u001b[1;31m---------------------------------------------------------------------------\u001b[0m",
      "\u001b[1;31mNameError\u001b[0m                                 Traceback (most recent call last)",
      "\u001b[1;32m~\\AppData\\Local\\Temp/ipykernel_13704/2813617646.py\u001b[0m in \u001b[0;36m<module>\u001b[1;34m\u001b[0m\n\u001b[0;32m      1\u001b[0m \u001b[0mbatch_size\u001b[0m \u001b[1;33m=\u001b[0m \u001b[1;36m256\u001b[0m\u001b[1;33m\u001b[0m\u001b[1;33m\u001b[0m\u001b[0m\n\u001b[1;32m----> 2\u001b[1;33m \u001b[1;32mif\u001b[0m \u001b[0msys\u001b[0m\u001b[1;33m.\u001b[0m\u001b[0mplatform\u001b[0m\u001b[1;33m.\u001b[0m\u001b[0mstartswith\u001b[0m\u001b[1;33m(\u001b[0m\u001b[1;34m'win'\u001b[0m\u001b[1;33m)\u001b[0m\u001b[1;33m:\u001b[0m\u001b[1;33m\u001b[0m\u001b[1;33m\u001b[0m\u001b[0m\n\u001b[0m\u001b[0;32m      3\u001b[0m     \u001b[1;31m# set 0 for windows\u001b[0m\u001b[1;33m\u001b[0m\u001b[1;33m\u001b[0m\u001b[0m\n\u001b[0;32m      4\u001b[0m     \u001b[1;31m# 0 means no additional processes are needed to speed up the reading of data\u001b[0m\u001b[1;33m\u001b[0m\u001b[1;33m\u001b[0m\u001b[0m\n\u001b[0;32m      5\u001b[0m     \u001b[0mnum_workers\u001b[0m \u001b[1;33m=\u001b[0m \u001b[1;36m0\u001b[0m\u001b[1;33m\u001b[0m\u001b[1;33m\u001b[0m\u001b[0m\n",
      "\u001b[1;31mNameError\u001b[0m: name 'sys' is not defined"
     ]
    }
   ],
   "source": [
    "batch_size = 256\n",
    "if sys.platform.startswith('win'):\n",
    "    # set 0 for windows\n",
    "    # 0 means no additional processes are needed to speed up the reading of data\n",
    "    num_workers = 0\n",
    "else:\n",
    "    num_workers = 4\n",
    "\n",
    "train_iter = DataLoader(mnist_train, batch_size, shuffle=True, num_workers=num_workers)\n",
    "test_iter = DataLoader(mnist_test, batch_size, shuffle=False, num_workers=num_workers)"
   ]
  },
  {
   "cell_type": "markdown",
   "metadata": {
    "id": "rOsZShjae-wL"
   },
   "source": [
    "The logic that we will use to obtain and read the Fashion-MNIST data set is\n",
    "encapsulated in the `d2l.load_data_fashion_mnist` function, which we will use in\n",
    "later chapters. This function will return two variables, `train_iter` and\n",
    "`test_iter`. As the content of this book continues to deepen, we will further\n",
    "improve this function.\n",
    "\n",
    "Let's look at the time it takes to read the training data."
   ]
  },
  {
   "cell_type": "code",
   "execution_count": 15,
   "metadata": {
    "colab": {
     "base_uri": "https://localhost:8080/",
     "height": 90
    },
    "id": "T_hpAoOMe-wL",
    "outputId": "621f0cdc-30cd-47cf-8079-c679c9a5a10a"
   },
   "outputs": [
    {
     "ename": "NameError",
     "evalue": "name 'time' is not defined",
     "output_type": "error",
     "traceback": [
      "\u001b[1;31m---------------------------------------------------------------------------\u001b[0m",
      "\u001b[1;31mNameError\u001b[0m                                 Traceback (most recent call last)",
      "\u001b[1;32m~\\AppData\\Local\\Temp/ipykernel_13704/3333327838.py\u001b[0m in \u001b[0;36m<module>\u001b[1;34m\u001b[0m\n\u001b[1;32m----> 1\u001b[1;33m \u001b[0mstart\u001b[0m \u001b[1;33m=\u001b[0m \u001b[0mtime\u001b[0m\u001b[1;33m.\u001b[0m\u001b[0mtime\u001b[0m\u001b[1;33m(\u001b[0m\u001b[1;33m)\u001b[0m\u001b[1;33m\u001b[0m\u001b[1;33m\u001b[0m\u001b[0m\n\u001b[0m\u001b[0;32m      2\u001b[0m \u001b[1;32mfor\u001b[0m \u001b[0mX\u001b[0m\u001b[1;33m,\u001b[0m \u001b[0my\u001b[0m \u001b[1;32min\u001b[0m \u001b[0mtrain_iter\u001b[0m\u001b[1;33m:\u001b[0m\u001b[1;33m\u001b[0m\u001b[1;33m\u001b[0m\u001b[0m\n\u001b[0;32m      3\u001b[0m     \u001b[1;32mcontinue\u001b[0m\u001b[1;33m\u001b[0m\u001b[1;33m\u001b[0m\u001b[0m\n\u001b[0;32m      4\u001b[0m \u001b[1;34m'%.2f sec'\u001b[0m \u001b[1;33m%\u001b[0m \u001b[1;33m(\u001b[0m\u001b[0mtime\u001b[0m\u001b[1;33m.\u001b[0m\u001b[0mtime\u001b[0m\u001b[1;33m(\u001b[0m\u001b[1;33m)\u001b[0m \u001b[1;33m-\u001b[0m \u001b[0mstart\u001b[0m\u001b[1;33m)\u001b[0m\u001b[1;33m\u001b[0m\u001b[1;33m\u001b[0m\u001b[0m\n",
      "\u001b[1;31mNameError\u001b[0m: name 'time' is not defined"
     ]
    }
   ],
   "source": [
    "start = time.time()\n",
    "for X, y in train_iter:\n",
    "    continue\n",
    "'%.2f sec' % (time.time() - start)"
   ]
  },
  {
   "cell_type": "markdown",
   "metadata": {
    "id": "XDlnwXgce-wM"
   },
   "source": [
    "## Summary\n",
    "\n",
    "* Fashion-MNIST is an apparel classification data set containing 10 categories, which we will use to test the performance of different algorithms in later chapters.\n",
    "* We store the shape of image using height and width of $h$ and $w$ pixels, respectively, as $h \\times w$ or `(h, w)`.\n",
    "* Data iterators are a key component for efficient performance. Use existing ones if available."
   ]
  },
  {
   "cell_type": "markdown",
   "metadata": {
    "id": "Spvu1DmEe-wM"
   },
   "source": [
    "## Exercises\n",
    "\n",
    "1. Does reducing `batch_size` (for instance, to 1) affect read performance?\n",
    "\n",
    "- batch_size = 256\n",
    "      6.44 sec\n",
    "- batch_size = 128\n",
    "      7.15 sec\n",
    "- batch_size = 256\n",
    "      7.99 sec\n",
    "- batch_size = 1\n",
    "      153.98 sec\n",
    "- performance gets worse when reducing batch_size\n",
    "\n",
    "2. For non-Windows users, try modifying `num_workers` to see how it affects read performance.\n",
    "- Check the code below\n",
    "\n",
    "3. Use the PyTorch documentation to see which other datasets are available in `torchvision.datasets`.\n",
    "\n",
    "4. Use the PyTorch documentation to see which other transformations are available in `torchvision.transforms`."
   ]
  },
  {
   "cell_type": "code",
   "execution_count": 16,
   "metadata": {
    "colab": {
     "base_uri": "https://localhost:8080/"
    },
    "id": "JLTIRfS8Hcbu",
    "outputId": "d36b59a7-d410-4b4c-9d11-487469d9299e"
   },
   "outputs": [
    {
     "ename": "NameError",
     "evalue": "name 'DataLoader' is not defined",
     "output_type": "error",
     "traceback": [
      "\u001b[1;31m---------------------------------------------------------------------------\u001b[0m",
      "\u001b[1;31mNameError\u001b[0m                                 Traceback (most recent call last)",
      "\u001b[1;32m~\\AppData\\Local\\Temp/ipykernel_13704/672032160.py\u001b[0m in \u001b[0;36m<module>\u001b[1;34m\u001b[0m\n\u001b[0;32m      3\u001b[0m \u001b[1;33m\u001b[0m\u001b[0m\n\u001b[0;32m      4\u001b[0m \u001b[1;32mfor\u001b[0m \u001b[0mworkers\u001b[0m \u001b[1;32min\u001b[0m \u001b[1;33m[\u001b[0m\u001b[1;36m1\u001b[0m\u001b[1;33m,\u001b[0m \u001b[1;36m2\u001b[0m\u001b[1;33m]\u001b[0m\u001b[1;33m:\u001b[0m\u001b[1;33m\u001b[0m\u001b[1;33m\u001b[0m\u001b[0m\n\u001b[1;32m----> 5\u001b[1;33m     \u001b[0mtrain_iter\u001b[0m \u001b[1;33m=\u001b[0m \u001b[0mDataLoader\u001b[0m\u001b[1;33m(\u001b[0m\u001b[0mmnist_train\u001b[0m\u001b[1;33m,\u001b[0m \u001b[0mbatch_size\u001b[0m\u001b[1;33m,\u001b[0m \u001b[0mshuffle\u001b[0m\u001b[1;33m=\u001b[0m\u001b[1;32mTrue\u001b[0m\u001b[1;33m,\u001b[0m \u001b[0mnum_workers\u001b[0m\u001b[1;33m=\u001b[0m\u001b[0mnum_workers\u001b[0m\u001b[1;33m)\u001b[0m\u001b[1;33m\u001b[0m\u001b[1;33m\u001b[0m\u001b[0m\n\u001b[0m\u001b[0;32m      6\u001b[0m \u001b[1;33m\u001b[0m\u001b[0m\n\u001b[0;32m      7\u001b[0m     \u001b[0mstart\u001b[0m \u001b[1;33m=\u001b[0m \u001b[0mtime\u001b[0m\u001b[1;33m.\u001b[0m\u001b[0mtime\u001b[0m\u001b[1;33m(\u001b[0m\u001b[1;33m)\u001b[0m\u001b[1;33m\u001b[0m\u001b[1;33m\u001b[0m\u001b[0m\n",
      "\u001b[1;31mNameError\u001b[0m: name 'DataLoader' is not defined"
     ]
    }
   ],
   "source": [
    "batch_size = 256\n",
    "record = []\n",
    "\n",
    "for workers in [1, 2]:\n",
    "    train_iter = DataLoader(mnist_train, batch_size, shuffle=True, num_workers=num_workers)\n",
    "    \n",
    "    start = time.time()\n",
    "    for x, y in train_iter: continue\n",
    "    record.append(time.time()-start)\n",
    "\n",
    "print(f'workers: 1 time: {record[0]:.3f}\\nworkers: 2 time: {record[1]:.3f}')\n"
   ]
  }
 ],
 "metadata": {
  "colab": {
   "name": "Image_Classification_Data(Fashion-MNIST).ipynb",
   "provenance": []
  },
  "kernelspec": {
   "display_name": "Python 3 (ipykernel)",
   "language": "python",
   "name": "python3"
  },
  "language_info": {
   "codemirror_mode": {
    "name": "ipython",
    "version": 3
   },
   "file_extension": ".py",
   "mimetype": "text/x-python",
   "name": "python",
   "nbconvert_exporter": "python",
   "pygments_lexer": "ipython3",
   "version": "3.9.7"
  }
 },
 "nbformat": 4,
 "nbformat_minor": 1
}
