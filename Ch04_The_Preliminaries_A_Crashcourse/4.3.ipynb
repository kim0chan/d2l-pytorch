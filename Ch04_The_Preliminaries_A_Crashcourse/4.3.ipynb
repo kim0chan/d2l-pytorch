{
 "cells": [
  {
   "cell_type": "markdown",
   "id": "9c8d71a8",
   "metadata": {},
   "source": [
    "# 4.3 Automatic Differentiation\n",
    "Getting better = Minimizing a loss function  \n",
    "With neural networks we choose loss functions that are differentiable with respect to our parameters.  \n",
    "The autograd package expedites this work by automatically calculating derivatices."
   ]
  },
  {
   "cell_type": "code",
   "execution_count": 1,
   "id": "43485dfc",
   "metadata": {},
   "outputs": [],
   "source": [
    "import torch\n",
    "from torch.autograd import Variable"
   ]
  },
  {
   "cell_type": "markdown",
   "id": "232e866b",
   "metadata": {},
   "source": [
    "the mapping $y = 2\\mathbf{x}^{\\top}\\mathbf{x}$ with respect to the column vector $\\mathbf{x}$"
   ]
  },
  {
   "cell_type": "code",
   "execution_count": 3,
   "id": "828fa47c",
   "metadata": {},
   "outputs": [
    {
     "name": "stdout",
     "output_type": "stream",
     "text": [
      "tensor([[0.],\n",
      "        [1.],\n",
      "        [2.],\n",
      "        [3.]], requires_grad=True)\n"
     ]
    }
   ],
   "source": [
    "x = Variable(torch.arange(4, dtype=torch.float32).reshape((4, 1)), requires_grad=True)\n",
    "print(x)"
   ]
  },
  {
   "cell_type": "markdown",
   "id": "5fb5648a",
   "metadata": {},
   "source": [
    "변수 x를 생성하고 초기값 할당  \n",
    "`requires_grad = True`"
   ]
  },
  {
   "cell_type": "code",
   "execution_count": 4,
   "id": "35fcbdec",
   "metadata": {},
   "outputs": [
    {
     "name": "stdout",
     "output_type": "stream",
     "text": [
      "tensor([[28.]], grad_fn=<MulBackward0>)\n"
     ]
    }
   ],
   "source": [
    "y = 2*torch.mm(x.t(), x)\n",
    "print(y)"
   ]
  },
  {
   "cell_type": "markdown",
   "id": "4378a211",
   "metadata": {},
   "source": [
    "(x.t() = $x^{\\top}$임을 상기)  \n",
    "x의 shape는"
   ]
  },
  {
   "cell_type": "code",
   "execution_count": null,
   "id": "ea84ed65",
   "metadata": {},
   "outputs": [],
   "source": []
  }
 ],
 "metadata": {
  "kernelspec": {
   "display_name": "Python 3 (ipykernel)",
   "language": "python",
   "name": "python3"
  },
  "language_info": {
   "codemirror_mode": {
    "name": "ipython",
    "version": 3
   },
   "file_extension": ".py",
   "mimetype": "text/x-python",
   "name": "python",
   "nbconvert_exporter": "python",
   "pygments_lexer": "ipython3",
   "version": "3.9.7"
  }
 },
 "nbformat": 4,
 "nbformat_minor": 5
}
