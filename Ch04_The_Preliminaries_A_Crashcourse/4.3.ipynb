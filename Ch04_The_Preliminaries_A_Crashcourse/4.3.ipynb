{
 "cells": [
  {
   "cell_type": "markdown",
   "id": "a09cedd8",
   "metadata": {},
   "source": [
    "# 4.3 Automatic Differentiation\n",
    "Getting better = Minimizing a loss function  \n",
    "With neural networks we choose loss functions that are differentiable with respect to our parameters.  \n",
    "The autograd package expedites this work by automatically calculating derivatices."
   ]
  },
  {
   "cell_type": "code",
   "execution_count": 3,
   "id": "d87b7228",
   "metadata": {},
   "outputs": [],
   "source": [
    "import torch\n",
    "from torch.autograd import Variable"
   ]
  },
  {
   "cell_type": "markdown",
   "id": "bbcf99db",
   "metadata": {},
   "source": [
    "the mapping $y = 2\\mathbf{x}^{\\top}\\mathbf{x}$ with respect to the column vector $\\mathbf{x}$"
   ]
  },
  {
   "cell_type": "code",
   "execution_count": 4,
   "id": "ca7b270b",
   "metadata": {},
   "outputs": [
    {
     "name": "stdout",
     "output_type": "stream",
     "text": [
      "tensor([[0.],\n",
      "        [1.],\n",
      "        [2.],\n",
      "        [3.]], requires_grad=True)\n"
     ]
    }
   ],
   "source": [
    "x = Variable(torch.arange(4, dtype=torch.float32).reshape((4, 1)), requires_grad=True)\n",
    "print(x)"
   ]
  },
  {
   "cell_type": "markdown",
   "id": "c3a3d033",
   "metadata": {},
   "source": [
    "변수 x를 생성하고 초기값 할당  \n",
    "`requires_grad = True`"
   ]
  },
  {
   "cell_type": "code",
   "execution_count": 5,
   "id": "0ebe4cb5",
   "metadata": {},
   "outputs": [
    {
     "name": "stdout",
     "output_type": "stream",
     "text": [
      "tensor([[28.]], grad_fn=<MulBackward0>)\n"
     ]
    }
   ],
   "source": [
    "y = 2*torch.mm(x.t(), x)\n",
    "print(y)"
   ]
  },
  {
   "cell_type": "markdown",
   "id": "2fd48036",
   "metadata": {},
   "source": [
    "(x.t() = $x^{\\top}$임을 상기)  \n",
    "`x`의 shape는 (4, 1)이고 `y`는 scalar이다.  "
   ]
  },
  {
   "cell_type": "code",
   "execution_count": 6,
   "id": "036f72c3",
   "metadata": {},
   "outputs": [],
   "source": [
    "y.backward()"
   ]
  },
  {
   "cell_type": "markdown",
   "id": "ffece682",
   "metadata": {},
   "source": [
    "`backward` function으로 gradient를 구할 수 있다."
   ]
  },
  {
   "cell_type": "code",
   "execution_count": 8,
   "id": "8269801e",
   "metadata": {},
   "outputs": [
    {
     "name": "stdout",
     "output_type": "stream",
     "text": [
      "x.grad:  tensor([[ 0.],\n",
      "        [ 4.],\n",
      "        [ 8.],\n",
      "        [12.]])\n",
      "x.grad_fn:  None\n",
      "y.grad_fn:  <MulBackward0 object at 0x000001CB36A9CDC0>\n"
     ]
    }
   ],
   "source": [
    "print(\"x.grad: \", x.grad)\n",
    "print(\"x.grad_fn: \", x.grad_fn)\n",
    "print(\"y.grad_fn: \", y.grad_fn)"
   ]
  },
  {
   "cell_type": "code",
   "execution_count": 9,
   "id": "397ec08c",
   "metadata": {},
   "outputs": [
    {
     "name": "stdout",
     "output_type": "stream",
     "text": [
      "True\n",
      "tensor([[ 0.],\n",
      "        [ 4.],\n",
      "        [ 8.],\n",
      "        [12.]])\n"
     ]
    }
   ],
   "source": [
    "print((x.grad - 4*x).norm().item() == 0)\n",
    "print(x.grad)"
   ]
  },
  {
   "cell_type": "markdown",
   "id": "1f405bb4",
   "metadata": {},
   "source": [
    "# Computing the Gradient of Python Control Flow"
   ]
  },
  {
   "cell_type": "code",
   "execution_count": 10,
   "id": "8549221f",
   "metadata": {},
   "outputs": [],
   "source": [
    "def func(a):\n",
    "    b = a * 2\n",
    "    while b.norm().item() < 1000:\n",
    "        b = b * 2\n",
    "    if b.sum().item() > 0:\n",
    "        c = b\n",
    "    else:\n",
    "        c = 100 * b\n",
    "    return c"
   ]
  },
  {
   "cell_type": "markdown",
   "id": "3caab0a2",
   "metadata": {},
   "source": [
    "conditional and loop control"
   ]
  },
  {
   "cell_type": "code",
   "execution_count": 12,
   "id": "8bb1d676",
   "metadata": {},
   "outputs": [],
   "source": [
    "a = torch.randn(size=(1,))\n",
    "a.requires_grad=True\n",
    "d = func(a)\n",
    "d.backward()"
   ]
  },
  {
   "cell_type": "code",
   "execution_count": 13,
   "id": "e8d8ead7",
   "metadata": {},
   "outputs": [
    {
     "name": "stdout",
     "output_type": "stream",
     "text": [
      "tensor([True])\n"
     ]
    }
   ],
   "source": [
    "print(a.grad == (d / a))"
   ]
  },
  {
   "cell_type": "markdown",
   "id": "aa98ec28",
   "metadata": {},
   "source": [
    "## Head gradients and the chain rule\n",
    "Sometimes when we call the backward method, e.g. `y.backward()`, where\n",
    "`y` is a function of `x` we are just interested in the derivative of\n",
    "`y` with respect to `x`. Mathematicians write this as\n",
    "$\\frac{dy(x)}{dx}$. At other times, we may be interested in the\n",
    "gradient of `z` with respect to `x`, where `z` is a function of `y`,\n",
    "which in turn, is a function of `x`. That is, we are interested in\n",
    "$\\frac{d}{dx} z(y(x))$. Recall that by the chain rule\n",
    "\n",
    "$$\\frac{d}{dx} z(y(x)) = \\frac{dz(y)}{dy} \\frac{dy(x)}{dx}.$$\n",
    "\n",
    "So, when ``y`` is part of a larger function ``z`` and we want ``x.grad`` to store $\\frac{dz}{dx}$, we can pass in the *head gradient* $\\frac{dz}{dy}$ as an input to ``backward()``. The default argument is ``torch.ones_like(y)``. See [Wikipedia](https://en.wikipedia.org/wiki/Chain_rule) for more details."
   ]
  },
  {
   "cell_type": "code",
   "execution_count": 14,
   "id": "39ac338d",
   "metadata": {},
   "outputs": [
    {
     "name": "stdout",
     "output_type": "stream",
     "text": [
      "tensor([[0.0000],\n",
      "        [4.0000],\n",
      "        [0.8000],\n",
      "        [0.1200]])\n"
     ]
    }
   ],
   "source": [
    "x = Variable(torch.tensor([[0.],[1.],[2.],[3.]]), requires_grad=True)\n",
    "y = x * 2\n",
    "z = y * x\n",
    "\n",
    "head_gradient = torch.tensor([[10], [1.], [.1], [.01]])\n",
    "z.backward(head_gradient)\n",
    "print(x.grad)"
   ]
  },
  {
   "cell_type": "code",
   "execution_count": null,
   "id": "f332bb2e",
   "metadata": {},
   "outputs": [],
   "source": []
  }
 ],
 "metadata": {
  "kernelspec": {
   "display_name": "Python 3 (ipykernel)",
   "language": "python",
   "name": "python3"
  },
  "language_info": {
   "codemirror_mode": {
    "name": "ipython",
    "version": 3
   },
   "file_extension": ".py",
   "mimetype": "text/x-python",
   "name": "python",
   "nbconvert_exporter": "python",
   "pygments_lexer": "ipython3",
   "version": "3.9.7"
  }
 },
 "nbformat": 4,
 "nbformat_minor": 5
}
