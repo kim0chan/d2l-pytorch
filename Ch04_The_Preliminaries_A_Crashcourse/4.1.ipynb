{
 "cells": [
  {
   "cell_type": "markdown",
   "id": "9b2b6106",
   "metadata": {},
   "source": [
    "# 4.1 Data Manipulation\n",
    "### 2018320178 Kim Youngchan"
   ]
  },
  {
   "cell_type": "code",
   "execution_count": 8,
   "id": "3d53273c",
   "metadata": {},
   "outputs": [
    {
     "data": {
      "text/plain": [
       "tensor([0.0342, 0.3578, 0.6087, 0.1115, 0.5124, 0.5359, 0.8757, 0.4210, 0.2114,\n",
       "        0.1773])"
      ]
     },
     "execution_count": 8,
     "metadata": {},
     "output_type": "execute_result"
    }
   ],
   "source": [
    "import torch\n",
    "torch.rand(10)"
   ]
  },
  {
   "cell_type": "markdown",
   "id": "82fabc48",
   "metadata": {},
   "source": [
    "pytorch를 import하고 torch.rand()를 통해 테스트를 해보았다."
   ]
  },
  {
   "cell_type": "code",
   "execution_count": 28,
   "id": "cccd2c30",
   "metadata": {},
   "outputs": [
    {
     "name": "stdout",
     "output_type": "stream",
     "text": [
      "tensor([ 0.,  1.,  2.,  3.,  4.,  5.,  6.,  7.,  8.,  9., 10., 11., 12., 13.,\n",
      "        14., 15.], dtype=torch.float64)\n"
     ]
    }
   ],
   "source": [
    "x = torch.arange(16, dtype=torch.float64)\n",
    "print(x)"
   ]
  },
  {
   "cell_type": "code",
   "execution_count": 17,
   "id": "a6eedfac",
   "metadata": {},
   "outputs": [
    {
     "data": {
      "text/plain": [
       "torch.Size([16])"
      ]
     },
     "execution_count": 17,
     "metadata": {},
     "output_type": "execute_result"
    }
   ],
   "source": [
    "x.shape"
   ]
  },
  {
   "cell_type": "markdown",
   "id": "83cc2f23",
   "metadata": {},
   "source": [
    "자료형 옆의 숫자는 bit 수를 나타내고, integer, complex, boolean 등의 attribute가 있다."
   ]
  },
  {
   "cell_type": "code",
   "execution_count": 32,
   "id": "11a2cc3b",
   "metadata": {},
   "outputs": [
    {
     "data": {
      "text/plain": [
       "tensor([[ 0.,  1.,  2.,  3.],\n",
       "        [ 4.,  5.,  6.,  7.],\n",
       "        [ 8.,  9., 10., 11.],\n",
       "        [12., 13., 14., 15.]], dtype=torch.float64)"
      ]
     },
     "execution_count": 32,
     "metadata": {},
     "output_type": "execute_result"
    }
   ],
   "source": [
    "x = x.reshape((4, 4))\n",
    "x"
   ]
  },
  {
   "cell_type": "code",
   "execution_count": 34,
   "id": "bc3f19a4",
   "metadata": {},
   "outputs": [
    {
     "data": {
      "text/plain": [
       "tensor([[ 0.,  1.,  2.,  3.,  4.,  5.,  6.,  7.],\n",
       "        [ 8.,  9., 10., 11., 12., 13., 14., 15.]], dtype=torch.float64)"
      ]
     },
     "execution_count": 34,
     "metadata": {},
     "output_type": "execute_result"
    }
   ],
   "source": [
    "x = x.reshape(2, 8)\n",
    "x"
   ]
  },
  {
   "cell_type": "code",
   "execution_count": 35,
   "id": "1d5f31d4",
   "metadata": {},
   "outputs": [
    {
     "data": {
      "text/plain": [
       "tensor([[ 0.,  1.],\n",
       "        [ 2.,  3.],\n",
       "        [ 4.,  5.],\n",
       "        [ 6.,  7.],\n",
       "        [ 8.,  9.],\n",
       "        [10., 11.],\n",
       "        [12., 13.],\n",
       "        [14., 15.]], dtype=torch.float64)"
      ]
     },
     "execution_count": 35,
     "metadata": {},
     "output_type": "execute_result"
    }
   ],
   "source": [
    "x = x.reshape(((8, 2)))\n",
    "x"
   ]
  },
  {
   "cell_type": "code",
   "execution_count": 37,
   "id": "4e30780f",
   "metadata": {},
   "outputs": [
    {
     "data": {
      "text/plain": [
       "tensor([[ 0.,  1.,  2.,  3.,  4.,  5.,  6.,  7.],\n",
       "        [ 8.,  9., 10., 11., 12., 13., 14., 15.]], dtype=torch.float64)"
      ]
     },
     "execution_count": 37,
     "metadata": {},
     "output_type": "execute_result"
    }
   ],
   "source": [
    "x = x.reshape((2, -1))\n",
    "x"
   ]
  },
  {
   "cell_type": "markdown",
   "id": "dfcc1152",
   "metadata": {},
   "source": [
    "reshape() 여러가지 방법으로 사용해보기"
   ]
  },
  {
   "cell_type": "code",
   "execution_count": 39,
   "id": "8437d94a",
   "metadata": {},
   "outputs": [
    {
     "data": {
      "text/plain": [
       "tensor([[1.7664e-04, 3.4031e-06, 2.1590e-04],\n",
       "        [3.3209e-09, 1.0559e-08, 1.7473e-04]])"
      ]
     },
     "execution_count": 39,
     "metadata": {},
     "output_type": "execute_result"
    }
   ],
   "source": [
    "torch.FloatTensor(2, 3)"
   ]
  },
  {
   "cell_type": "code",
   "execution_count": 40,
   "id": "adf4cc09",
   "metadata": {},
   "outputs": [
    {
     "data": {
      "text/plain": [
       "tensor([[0.0000e+00, 1.3593e-43, 1.8754e+28],\n",
       "        [3.2175e+21, 2.7446e-06, 1.3029e-11]])"
      ]
     },
     "execution_count": 40,
     "metadata": {},
     "output_type": "execute_result"
    }
   ],
   "source": [
    "torch.Tensor(2, 3)"
   ]
  },
  {
   "cell_type": "code",
   "execution_count": 44,
   "id": "9be1ec73",
   "metadata": {},
   "outputs": [
    {
     "data": {
      "text/plain": [
       "tensor([[1.6502e-07, 1.0314e-08, 6.6291e-10],\n",
       "        [2.7179e-06, 4.2251e-05, 5.4452e-05]])"
      ]
     },
     "execution_count": 44,
     "metadata": {},
     "output_type": "execute_result"
    }
   ],
   "source": [
    "torch.empty(2, 3)"
   ]
  },
  {
   "cell_type": "markdown",
   "id": "db61ba0a",
   "metadata": {},
   "source": [
    "torch.FloatTensor()와 torch.empty()는 같은 작업을 수행한다."
   ]
  },
  {
   "cell_type": "code",
   "execution_count": 45,
   "id": "cf7b0723",
   "metadata": {},
   "outputs": [
    {
     "data": {
      "text/plain": [
       "tensor([[[0., 0., 0., 0.],\n",
       "         [0., 0., 0., 0.],\n",
       "         [0., 0., 0., 0.]],\n",
       "\n",
       "        [[0., 0., 0., 0.],\n",
       "         [0., 0., 0., 0.],\n",
       "         [0., 0., 0., 0.]]])"
      ]
     },
     "execution_count": 45,
     "metadata": {},
     "output_type": "execute_result"
    }
   ],
   "source": [
    "torch.zeros((2, 3, 4))"
   ]
  },
  {
   "cell_type": "markdown",
   "id": "0c1a5470",
   "metadata": {},
   "source": [
    "모든 원소가 0인 3 by 4 행렬을 2개 만듦  \n",
    "*ones()는 모든 원소를 1인 행렬을 만듦"
   ]
  },
  {
   "cell_type": "code",
   "execution_count": 50,
   "id": "3d113712",
   "metadata": {},
   "outputs": [
    {
     "name": "stdout",
     "output_type": "stream",
     "text": [
      "tensor([[ 1,  2,  3,  4],\n",
      "        [ 5,  6,  7,  8],\n",
      "        [ 9, 10, 11, 12]])\n"
     ]
    }
   ],
   "source": [
    "y = torch.tensor([[1, 2, 3, 4], [5, 6, 7, 8], [9, 10, 11, 12]])\n",
    "print(y)"
   ]
  },
  {
   "cell_type": "markdown",
   "id": "4c58173e",
   "metadata": {},
   "source": [
    "행렬의 원소를 명시해줄 수도 있음"
   ]
  },
  {
   "cell_type": "code",
   "execution_count": 51,
   "id": "300cacd2",
   "metadata": {},
   "outputs": [
    {
     "data": {
      "text/plain": [
       "tensor([[-2.0177,  1.2143],\n",
       "        [ 0.4518, -0.0028],\n",
       "        [-0.2110, -0.7507],\n",
       "        [ 0.1510,  0.4596]])"
      ]
     },
     "execution_count": 51,
     "metadata": {},
     "output_type": "execute_result"
    }
   ],
   "source": [
    "torch.randn(4, 2)"
   ]
  },
  {
   "cell_type": "markdown",
   "id": "e2bc809f",
   "metadata": {},
   "source": [
    "난수도 생성할 수 있다.  \n",
    "각 원소가 unit normal distribution에 의해 샘플링되는 것으로 보인다"
   ]
  },
  {
   "cell_type": "markdown",
   "id": "de11f41d",
   "metadata": {},
   "source": [
    "## Operations\n",
    "### element-wise operations"
   ]
  },
  {
   "cell_type": "code",
   "execution_count": 56,
   "id": "08ca553e",
   "metadata": {},
   "outputs": [
    {
     "name": "stdout",
     "output_type": "stream",
     "text": [
      "x = tensor([1., 2., 4., 8.])\n",
      "y = tensor([2., 2., 2., 2.])\n",
      "x + y = tensor([ 3.,  4.,  6., 10.])\n",
      "x - y = tensor([-1.,  0.,  2.,  6.])\n",
      "x * y = tensor([ 2.,  4.,  8., 16.])\n",
      "x / y = tensor([0.5000, 1.0000, 2.0000, 4.0000])\n"
     ]
    },
    {
     "data": {
      "text/plain": [
       "tensor([2.7183e+00, 7.3891e+00, 5.4598e+01, 2.9810e+03])"
      ]
     },
     "execution_count": 56,
     "metadata": {},
     "output_type": "execute_result"
    }
   ],
   "source": [
    "x = torch.tensor([1, 2, 4, 8], dtype=torch.float32)\n",
    "y = torch.ones_like(x) * 2\n",
    "print('x =', x)\n",
    "print('y =', y)\n",
    "print('x + y =', x + y)\n",
    "print('x - y =', x - y)\n",
    "print('x * y =', x * y)\n",
    "print('x / y =', x / y)\n",
    "torch.exp(x)"
   ]
  },
  {
   "cell_type": "markdown",
   "id": "75d9613d",
   "metadata": {},
   "source": [
    "'+' : element-wise addition  \n",
    "'-' : element-wise subtraction  \n",
    "'*' : element-wise multiplication  \n",
    "'/' : element-wise division"
   ]
  },
  {
   "cell_type": "markdown",
   "id": "2f782a0b",
   "metadata": {},
   "source": [
    "### matrix operations"
   ]
  },
  {
   "cell_type": "code",
   "execution_count": 58,
   "id": "b4320307",
   "metadata": {},
   "outputs": [
    {
     "name": "stdout",
     "output_type": "stream",
     "text": [
      "torch.float32\n",
      "x = tensor([[ 0.,  1.,  2.,  3.],\n",
      "        [ 4.,  5.,  6.,  7.],\n",
      "        [ 8.,  9., 10., 11.]])\n",
      "y = tensor([[ 1.,  2.,  3.,  4.],\n",
      "        [ 5.,  6.,  7.,  8.],\n",
      "        [ 9., 10., 11., 12.]])\n"
     ]
    },
    {
     "data": {
      "text/plain": [
       "tensor([[ 20.,  44.,  68.],\n",
       "        [ 60., 148., 236.],\n",
       "        [100., 252., 404.]])"
      ]
     },
     "execution_count": 58,
     "metadata": {},
     "output_type": "execute_result"
    }
   ],
   "source": [
    "x = torch.arange(12, dtype=torch.float32).reshape((3, 4))\n",
    "y = torch.tensor([[1, 2, 3, 4], [5, 6, 7, 8], [9, 10, 11, 12]], dtype=torch.float32)\n",
    "print(x.dtype)\n",
    "print('x =', x)\n",
    "print('y =', y)\n",
    "torch.mm(x, y.t())"
   ]
  },
  {
   "cell_type": "markdown",
   "id": "00d13768",
   "metadata": {},
   "source": [
    "`mm` or `matmul` : 행렬 곱(matrix multiplication)  \n",
    "`.t()` : 전치 행렬(transpose)"
   ]
  },
  {
   "cell_type": "code",
   "execution_count": 59,
   "id": "768618f5",
   "metadata": {},
   "outputs": [
    {
     "data": {
      "text/plain": [
       "tensor([[ 0.,  1.,  2.,  3.],\n",
       "        [ 4.,  5.,  6.,  7.],\n",
       "        [ 8.,  9., 10., 11.],\n",
       "        [ 1.,  2.,  3.,  4.],\n",
       "        [ 5.,  6.,  7.,  8.],\n",
       "        [ 9., 10., 11., 12.]])"
      ]
     },
     "execution_count": 59,
     "metadata": {},
     "output_type": "execute_result"
    }
   ],
   "source": [
    "torch.cat((x, y), dim=0)"
   ]
  },
  {
   "cell_type": "code",
   "execution_count": 60,
   "id": "97ab7288",
   "metadata": {},
   "outputs": [
    {
     "data": {
      "text/plain": [
       "tensor([[ 0.,  1.,  2.,  3.,  1.,  2.,  3.,  4.],\n",
       "        [ 4.,  5.,  6.,  7.,  5.,  6.,  7.,  8.],\n",
       "        [ 8.,  9., 10., 11.,  9., 10., 11., 12.]])"
      ]
     },
     "execution_count": 60,
     "metadata": {},
     "output_type": "execute_result"
    }
   ],
   "source": [
    "torch.cat((x, y), dim=1)"
   ]
  },
  {
   "cell_type": "code",
   "execution_count": 62,
   "id": "d07a7b9b",
   "metadata": {},
   "outputs": [
    {
     "data": {
      "text/plain": [
       "tensor([[False, False, False, False],\n",
       "        [False, False, False, False],\n",
       "        [False, False, False, False]])"
      ]
     },
     "execution_count": 62,
     "metadata": {},
     "output_type": "execute_result"
    }
   ],
   "source": [
    "x == y"
   ]
  },
  {
   "cell_type": "code",
   "execution_count": 63,
   "id": "2c0f3d78",
   "metadata": {},
   "outputs": [
    {
     "data": {
      "text/plain": [
       "tensor(66.)"
      ]
     },
     "execution_count": 63,
     "metadata": {},
     "output_type": "execute_result"
    }
   ],
   "source": [
    "x.sum()"
   ]
  },
  {
   "cell_type": "markdown",
   "id": "342e3d56",
   "metadata": {},
   "source": [
    "## Broadcast Mechanism  \n",
    "tensor의 shape가 다를 때"
   ]
  },
  {
   "cell_type": "code",
   "execution_count": 64,
   "id": "a32dff01",
   "metadata": {},
   "outputs": [
    {
     "data": {
      "text/plain": [
       "(tensor([[0.],\n",
       "         [1.],\n",
       "         [2.]]),\n",
       " tensor([[0., 1.]]))"
      ]
     },
     "execution_count": 64,
     "metadata": {},
     "output_type": "execute_result"
    }
   ],
   "source": [
    "a = torch.arange(3, dtype=torch.float32).reshape((3, 1))\n",
    "b = torch.arange(2, dtype=torch.float32).reshape((1, 2))\n",
    "a, b"
   ]
  },
  {
   "cell_type": "code",
   "execution_count": 65,
   "id": "f6882e49",
   "metadata": {},
   "outputs": [
    {
     "data": {
      "text/plain": [
       "tensor([[0., 1.],\n",
       "        [1., 2.],\n",
       "        [2., 3.]])"
      ]
     },
     "execution_count": 65,
     "metadata": {},
     "output_type": "execute_result"
    }
   ],
   "source": [
    "a + b"
   ]
  },
  {
   "cell_type": "markdown",
   "id": "6e170ebb",
   "metadata": {},
   "source": [
    "결과 형태를 잘 봅시다"
   ]
  },
  {
   "cell_type": "markdown",
   "id": "f27e27d5",
   "metadata": {},
   "source": [
    "## Indexing and Slicing\n",
    "Python array와 같이 tensor의 element도 index로 접근 가능하다.  \n",
    "첫 원소는 0의 index를 갖는다.  \n",
    "range는 첫 번째 원소는 포함하고, 마지막 원소는 포함하지 않는다.  \n",
    "예를 들어 `1:3`은 index 1, 2를 뜻한다."
   ]
  },
  {
   "cell_type": "code",
   "execution_count": 74,
   "id": "91d4d57b",
   "metadata": {},
   "outputs": [
    {
     "data": {
      "text/plain": [
       "tensor([[ 4.,  5.,  6.,  7.],\n",
       "        [ 8.,  9., 10., 11.]])"
      ]
     },
     "execution_count": 74,
     "metadata": {},
     "output_type": "execute_result"
    }
   ],
   "source": [
    "x[1:3]"
   ]
  },
  {
   "cell_type": "code",
   "execution_count": 83,
   "id": "088c164f",
   "metadata": {},
   "outputs": [
    {
     "name": "stdout",
     "output_type": "stream",
     "text": [
      "tensor([[ 0.,  1.],\n",
      "        [ 2.,  3.],\n",
      "        [ 4.,  5.],\n",
      "        [ 6.,  7.],\n",
      "        [ 8.,  9.],\n",
      "        [10., 11.]])\n"
     ]
    },
    {
     "data": {
      "text/plain": [
       "tensor([[0., 1.],\n",
       "        [2., 3.],\n",
       "        [4., 5.]])"
      ]
     },
     "execution_count": 83,
     "metadata": {},
     "output_type": "execute_result"
    }
   ],
   "source": [
    "temp = x.reshape((6, 2))\n",
    "print(temp)\n",
    "temp[0:3]"
   ]
  },
  {
   "cell_type": "code",
   "execution_count": 87,
   "id": "3fa6097e",
   "metadata": {},
   "outputs": [
    {
     "data": {
      "text/plain": [
       "tensor([[12., 12., 12., 12.],\n",
       "        [12., 12., 12., 12.],\n",
       "        [ 8.,  9., 10., 11.]])"
      ]
     },
     "execution_count": 87,
     "metadata": {},
     "output_type": "execute_result"
    }
   ],
   "source": [
    "x[0:2, :] = 12\n",
    "x"
   ]
  },
  {
   "cell_type": "markdown",
   "id": "82a4730c",
   "metadata": {},
   "source": [
    "## Saving Memory"
   ]
  },
  {
   "cell_type": "code",
   "execution_count": 89,
   "id": "df44a260",
   "metadata": {},
   "outputs": [
    {
     "data": {
      "text/plain": [
       "False"
      ]
     },
     "execution_count": 89,
     "metadata": {},
     "output_type": "execute_result"
    }
   ],
   "source": [
    "before = id(y)\n",
    "y = y + x\n",
    "id(y) == before"
   ]
  },
  {
   "cell_type": "code",
   "execution_count": 90,
   "id": "29f3abb1",
   "metadata": {},
   "outputs": [
    {
     "name": "stdout",
     "output_type": "stream",
     "text": [
      "id(z): 2397986303168\n",
      "id(z): 2397986303168\n"
     ]
    }
   ],
   "source": [
    "z = torch.zeros_like(y)\n",
    "print('id(z):', id(z))\n",
    "z[:] = x + y\n",
    "print('id(z):', id(z))"
   ]
  },
  {
   "cell_type": "code",
   "execution_count": 92,
   "id": "d0ef79c0",
   "metadata": {},
   "outputs": [
    {
     "data": {
      "text/plain": [
       "True"
      ]
     },
     "execution_count": 92,
     "metadata": {},
     "output_type": "execute_result"
    }
   ],
   "source": [
    "before = id(z)\n",
    "torch.add(x, y, out=z)\n",
    "id(z) == before"
   ]
  },
  {
   "cell_type": "code",
   "execution_count": 93,
   "id": "96bf9db9",
   "metadata": {},
   "outputs": [
    {
     "data": {
      "text/plain": [
       "True"
      ]
     },
     "execution_count": 93,
     "metadata": {},
     "output_type": "execute_result"
    }
   ],
   "source": [
    "before = id(x)\n",
    "x += y\n",
    "id(x) == before"
   ]
  },
  {
   "cell_type": "markdown",
   "id": "f0692eb7",
   "metadata": {},
   "source": [
    "## Mutual Transformation of PyTorch and NumPy\n",
    "PyTorch Tensor와 NumPy Array 사이의 전환"
   ]
  },
  {
   "cell_type": "code",
   "execution_count": 94,
   "id": "d0cd55ef",
   "metadata": {},
   "outputs": [
    {
     "name": "stdout",
     "output_type": "stream",
     "text": [
      "<class 'numpy.ndarray'>\n",
      "<class 'torch.Tensor'>\n"
     ]
    }
   ],
   "source": [
    "a = x.numpy()\n",
    "print(type(a))\n",
    "b = torch.tensor(a)\n",
    "print(type(b))"
   ]
  },
  {
   "cell_type": "code",
   "execution_count": 95,
   "id": "092404cc",
   "metadata": {},
   "outputs": [
    {
     "name": "stdout",
     "output_type": "stream",
     "text": [
      "<class 'torch.Tensor'>\n",
      "<class 'numpy.ndarray'>\n"
     ]
    }
   ],
   "source": [
    "a = torch.tensor(a)\n",
    "b = b.numpy()\n",
    "print(type(a))\n",
    "print(type(b))"
   ]
  }
 ],
 "metadata": {
  "kernelspec": {
   "display_name": "Python 3 (ipykernel)",
   "language": "python",
   "name": "python3"
  },
  "language_info": {
   "codemirror_mode": {
    "name": "ipython",
    "version": 3
   },
   "file_extension": ".py",
   "mimetype": "text/x-python",
   "name": "python",
   "nbconvert_exporter": "python",
   "pygments_lexer": "ipython3",
   "version": "3.9.7"
  }
 },
 "nbformat": 4,
 "nbformat_minor": 5
}
